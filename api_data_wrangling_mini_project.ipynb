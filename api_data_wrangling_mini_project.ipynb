{
 "cells": [
  {
   "cell_type": "markdown",
   "metadata": {},
   "source": [
    "As a first step, we register a free account on the https://data.nasdaq.com/ website.\n",
    "\n",
    "After we register, we will be provided with a unique API key, that we should store.\n",
    "\n",
    "Note: Use a .env file and put our key in there and python-dotenv to access it in this notebook.\n",
    "\n",
    "The key is stored in a .env file, which is added to gitignore.\n"
   ]
  },
  {
   "cell_type": "code",
   "execution_count": 1,
   "metadata": {},
   "outputs": [],
   "source": [
    "# get api key from the .env file\n",
    "import os\n",
    "from dotenv import load_dotenv  \n",
    "\n",
    "load_dotenv()\n",
    "API_KEY = os.getenv('NASDAQ_API_KEY')\n"
   ]
  },
  {
   "cell_type": "code",
   "execution_count": 3,
   "metadata": {},
   "outputs": [],
   "source": [
    "# First, import the relevant modules\n",
    "import json\n",
    "import requests\n"
   ]
  },
  {
   "cell_type": "markdown",
   "metadata": {},
   "source": [
    "### Collect data from the Franfurt Stock Exchange, for the ticker AFX_X, for the whole year 2017."
   ]
  },
  {
   "cell_type": "code",
   "execution_count": 6,
   "metadata": {},
   "outputs": [],
   "source": [
    "url = 'https://data.nasdaq.com/api/v3/datasets/FSE/AFX_X/data.json'\n",
    "params = {'api_key' : API_KEY, 'start_date' : '2017-01-01', 'end_date' : '2017-12-31' }\n",
    "\n",
    "r = requests.get(url, params=params, stream=True)\n",
    "\n",
    "#r.url\n",
    "#r.status_code\n",
    "#r.headers['content-type']\n",
    "#r.json()\n",
    "\n",
    "#r.text\n",
    "#print(r.content)\n",
    "\n",
    "#r.raw\n",
    "\n"
   ]
  },
  {
   "cell_type": "code",
   "execution_count": null,
   "metadata": {},
   "outputs": [],
   "source": [
    "# Inspect the JSON structure of the object you created, and take note of how nested it is,\n",
    "# as well as the overall structure\n",
    "\n",
    "r.json()"
   ]
  },
  {
   "cell_type": "code",
   "execution_count": 98,
   "metadata": {},
   "outputs": [
    {
     "name": "stdout",
     "output_type": "stream",
     "text": [
      "<class 'dict'>\n"
     ]
    }
   ],
   "source": [
    "\n",
    "print(type(r.json()))"
   ]
  },
  {
   "cell_type": "code",
   "execution_count": 199,
   "metadata": {},
   "outputs": [
    {
     "name": "stdout",
     "output_type": "stream",
     "text": [
      "['Date', 'Open', 'High', 'Low', 'Close', 'Change', 'Traded Volume', 'Turnover', 'Last Price of the Day', 'Daily Traded Units', 'Daily Turnover']\n"
     ]
    }
   ],
   "source": [
    "# Convert the returned JSON object into a Python dictionary.\n",
    "fse_data = r.json()\n",
    "#print(fse_data['dataset_data'])\n",
    "#print(type(fse_data['dataset_data']['column_names']))\n",
    "print(fse_data['dataset_data']['column_names'])\n",
    "#print(type(fse_data['dataset_data']['data']))\n",
    "#print(fse_data['dataset_data']['data'][0])\n",
    "\n",
    "\n"
   ]
  },
  {
   "cell_type": "markdown",
   "metadata": {},
   "source": [
    "### Calculate what the highest and lowest opening prices were for the stock in this period."
   ]
  },
  {
   "cell_type": "code",
   "execution_count": 152,
   "metadata": {},
   "outputs": [],
   "source": [
    "# Make a list of opening prices\n",
    "m = len(fse_data['dataset_data']['data'])\n",
    "opening = []\n",
    "for i in range(m):\n",
    "    opening.append(fse_data['dataset_data']['data'][i][1])    "
   ]
  },
  {
   "cell_type": "code",
   "execution_count": 158,
   "metadata": {},
   "outputs": [],
   "source": [
    "# Removing None values in opening price list\n",
    "opening = list(filter(lambda item: item is not None, opening))"
   ]
  },
  {
   "cell_type": "code",
   "execution_count": 180,
   "metadata": {},
   "outputs": [],
   "source": [
    "# Find the highest and lowest opening prices\n",
    "highest_open = max(opening)\n",
    "lowest_open = min(opening)\n"
   ]
  },
  {
   "cell_type": "markdown",
   "metadata": {},
   "source": [
    "### Calculating the largest change in any one day (based on High and Low price)"
   ]
  },
  {
   "cell_type": "code",
   "execution_count": 159,
   "metadata": {},
   "outputs": [],
   "source": [
    "# Make a list of daily high prices\n",
    "\n",
    "m = len(fse_data['dataset_data']['data'])\n",
    "high = []\n",
    "for i in range(m):\n",
    "    high.append(fse_data['dataset_data']['data'][i][2])    "
   ]
  },
  {
   "cell_type": "code",
   "execution_count": 181,
   "metadata": {},
   "outputs": [],
   "source": [
    "# Make a list of daily low prices\n",
    "\n",
    "m = len(fse_data['dataset_data']['data'])\n",
    "low = []\n",
    "for i in range(m):\n",
    "    low.append(fse_data['dataset_data']['data'][i][3])  "
   ]
  },
  {
   "cell_type": "code",
   "execution_count": 198,
   "metadata": {},
   "outputs": [
    {
     "name": "stdout",
     "output_type": "stream",
     "text": [
      "The highest daily change is: 2.8100000000000023\n"
     ]
    }
   ],
   "source": [
    "# Make a list of daily changes according to the daily high and low prices\n",
    "change_high_low = []\n",
    "for item1, item2 in zip(high, low):\n",
    "    item = item1 - item2\n",
    "    change_high_low.append(item)\n",
    "\n",
    "# Finding the highest change   \n",
    "max_change_high_low = max(change_high_low)\n",
    "print(\"The highest daily change is:\", max_change_high_low) "
   ]
  },
  {
   "cell_type": "markdown",
   "metadata": {},
   "source": [
    "### Calculate the largest change between any two days (based on Closing Price)"
   ]
  },
  {
   "cell_type": "code",
   "execution_count": 170,
   "metadata": {},
   "outputs": [],
   "source": [
    "# Make a list of daily closing prices\n",
    "\n",
    "m = len(fse_data['dataset_data']['data'])\n",
    "close = []\n",
    "for i in range(m):\n",
    "    close.append(fse_data['dataset_data']['data'][i][4])  "
   ]
  },
  {
   "cell_type": "code",
   "execution_count": 176,
   "metadata": {},
   "outputs": [],
   "source": [
    "# Make a list of 2 day changes according to daily closing prices\n",
    "change_close = []\n",
    "for i in range(m-1):\n",
    "    item = abs(close[i+1] - close[i])\n",
    "    change_close.append(item)"
   ]
  },
  {
   "cell_type": "code",
   "execution_count": 197,
   "metadata": {},
   "outputs": [
    {
     "name": "stdout",
     "output_type": "stream",
     "text": [
      "The highest 2-day change is: 2.559999999999995\n"
     ]
    }
   ],
   "source": [
    "# Finding the highest change \n",
    "max_change_close = max(change_close)\n",
    "print(\"The highest 2-day change is:\", max_change_close)"
   ]
  },
  {
   "cell_type": "markdown",
   "metadata": {},
   "source": [
    "### Calculate the average daily trading volume during that year"
   ]
  },
  {
   "cell_type": "code",
   "execution_count": 183,
   "metadata": {},
   "outputs": [],
   "source": [
    "# Make a list of daily trading volumes\n",
    "\n",
    "m = len(fse_data['dataset_data']['data'])\n",
    "trade_volume = []\n",
    "for i in range(m):\n",
    "    trade_volume.append(fse_data['dataset_data']['data'][i][6])  "
   ]
  },
  {
   "cell_type": "code",
   "execution_count": 195,
   "metadata": {},
   "outputs": [
    {
     "name": "stdout",
     "output_type": "stream",
     "text": [
      "The average daily trade volume is: 89124.33725490196\n"
     ]
    }
   ],
   "source": [
    "# Define a function to compute the average of a list\n",
    "\n",
    "def avg(lst):\n",
    "    return sum(lst) / len(lst)\n",
    "\n",
    "# Compute the average daily traing volume\n",
    "\n",
    "avg_trade_vol = avg(trade_volume)\n",
    "print(\"The average daily trade volume is:\" , avg_trade_vol)"
   ]
  },
  {
   "cell_type": "markdown",
   "metadata": {},
   "source": [
    "### Calculate the median trading volume during that year. "
   ]
  },
  {
   "cell_type": "code",
   "execution_count": 196,
   "metadata": {},
   "outputs": [
    {
     "name": "stdout",
     "output_type": "stream",
     "text": [
      "The median daily trade volume is: 76286.0\n"
     ]
    }
   ],
   "source": [
    "trade_volume.sort()\n",
    "mid = len(trade_volume) // 2\n",
    "med_trade_vol = (trade_volume[mid] + trade_volume[~mid]) / 2\n",
    "\n",
    "print(\"The median daily trade volume is:\" , med_trade_vol)"
   ]
  }
 ],
 "metadata": {
  "kernelspec": {
   "display_name": "Python 3.10.8 64-bit",
   "language": "python",
   "name": "python3"
  },
  "language_info": {
   "codemirror_mode": {
    "name": "ipython",
    "version": 3
   },
   "file_extension": ".py",
   "mimetype": "text/x-python",
   "name": "python",
   "nbconvert_exporter": "python",
   "pygments_lexer": "ipython3",
   "version": "3.10.8"
  },
  "vscode": {
   "interpreter": {
    "hash": "b0fa6594d8f4cbf19f97940f81e996739fb7646882a419484c72d19e05852a7e"
   }
  }
 },
 "nbformat": 4,
 "nbformat_minor": 4
}
